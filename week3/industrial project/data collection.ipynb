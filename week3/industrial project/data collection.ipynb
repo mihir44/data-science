{
 "cells": [
  {
   "cell_type": "code",
   "execution_count": 1,
   "id": "129324a3",
   "metadata": {},
   "outputs": [],
   "source": [
    "import requests\n",
    "import pandas as pd\n",
    "from bs4 import BeautifulSoup"
   ]
  },
  {
   "cell_type": "code",
   "execution_count": 2,
   "id": "d4c70e54",
   "metadata": {},
   "outputs": [],
   "source": [
    "url = \"https://en.wikipedia.org/wiki/List_of_mergers_and_acquisitions_by_Alphabet\""
   ]
  },
  {
   "cell_type": "code",
   "execution_count": 3,
   "id": "128f80c9",
   "metadata": {},
   "outputs": [],
   "source": [
    "response = requests.get(url)"
   ]
  },
  {
   "cell_type": "code",
   "execution_count": 4,
   "id": "85350576",
   "metadata": {},
   "outputs": [
    {
     "data": {
      "text/plain": [
       "200"
      ]
     },
     "execution_count": 4,
     "metadata": {},
     "output_type": "execute_result"
    }
   ],
   "source": [
    "response.status_code"
   ]
  },
  {
   "cell_type": "code",
   "execution_count": 5,
   "id": "7c244106",
   "metadata": {},
   "outputs": [],
   "source": [
    "soup = BeautifulSoup(response.text, \"html.parser\")"
   ]
  },
  {
   "cell_type": "code",
   "execution_count": 6,
   "id": "e36871c4",
   "metadata": {},
   "outputs": [],
   "source": [
    "selection_class = \"wikitable\"\n",
    "table = soup.find_all('table', {\"class\": selection_class})"
   ]
  },
  {
   "cell_type": "code",
   "execution_count": 11,
   "id": "1b80b5f6",
   "metadata": {},
   "outputs": [
    {
     "data": {
      "text/plain": [
       "1960"
      ]
     },
     "execution_count": 11,
     "metadata": {},
     "output_type": "execute_result"
    }
   ],
   "source": [
    "len(table[0].find_all(\"td\"))"
   ]
  },
  {
   "cell_type": "code",
   "execution_count": 12,
   "id": "5c520078",
   "metadata": {},
   "outputs": [],
   "source": [
    "td_tags = table[0].find_all(\"td\")"
   ]
  },
  {
   "cell_type": "code",
   "execution_count": 13,
   "id": "dede1766",
   "metadata": {},
   "outputs": [
    {
     "data": {
      "text/plain": [
       "1960"
      ]
     },
     "execution_count": 13,
     "metadata": {},
     "output_type": "execute_result"
    }
   ],
   "source": [
    "len(td_tags)"
   ]
  },
  {
   "cell_type": "code",
   "execution_count": 27,
   "id": "f6ab9fc5",
   "metadata": {
    "scrolled": true
   },
   "outputs": [
    {
     "data": {
      "text/plain": [
       "'3'"
      ]
     },
     "execution_count": 27,
     "metadata": {},
     "output_type": "execute_result"
    }
   ],
   "source": [
    "td_tags[].text.strip()"
   ]
  },
  {
   "cell_type": "code",
   "execution_count": 32,
   "id": "eafeac40",
   "metadata": {},
   "outputs": [],
   "source": [
    "rank = []\n",
    "for i in range(0,len(td_tags),8):\n",
    "    rank.append(td_tags[i].text.strip())"
   ]
  },
  {
   "cell_type": "code",
   "execution_count": 30,
   "id": "41a6fcf0",
   "metadata": {},
   "outputs": [
    {
     "data": {
      "text/plain": [
       "['1',\n",
       " '2',\n",
       " '3',\n",
       " '4',\n",
       " '5',\n",
       " '6',\n",
       " '7',\n",
       " '8',\n",
       " '9',\n",
       " '10',\n",
       " '11',\n",
       " '12',\n",
       " '13',\n",
       " '14',\n",
       " '15',\n",
       " '16',\n",
       " '17',\n",
       " '18',\n",
       " '19',\n",
       " '20',\n",
       " '21',\n",
       " '22',\n",
       " '23',\n",
       " '24',\n",
       " '25',\n",
       " '26',\n",
       " '27',\n",
       " '28',\n",
       " '29',\n",
       " '30',\n",
       " '31',\n",
       " '32',\n",
       " '33',\n",
       " '34',\n",
       " '35',\n",
       " '36',\n",
       " '37',\n",
       " '38',\n",
       " '39',\n",
       " '40',\n",
       " '41',\n",
       " '42',\n",
       " '43',\n",
       " '44',\n",
       " '45',\n",
       " '46',\n",
       " '47',\n",
       " '48',\n",
       " '49',\n",
       " '50',\n",
       " '51',\n",
       " '52',\n",
       " '53',\n",
       " '54',\n",
       " '55',\n",
       " '56',\n",
       " '57',\n",
       " '58',\n",
       " '59',\n",
       " '60',\n",
       " '61',\n",
       " '62',\n",
       " '63',\n",
       " '64',\n",
       " '65',\n",
       " '66',\n",
       " '67',\n",
       " '68',\n",
       " '69',\n",
       " '70',\n",
       " '71',\n",
       " '72',\n",
       " '73',\n",
       " '74',\n",
       " '75',\n",
       " '76',\n",
       " '77',\n",
       " '78',\n",
       " '79',\n",
       " '80',\n",
       " '81',\n",
       " '82',\n",
       " '83',\n",
       " '84',\n",
       " '85',\n",
       " '86',\n",
       " '87',\n",
       " '88',\n",
       " '89',\n",
       " '90',\n",
       " '91',\n",
       " '92',\n",
       " '93',\n",
       " '94',\n",
       " '95',\n",
       " '96',\n",
       " '97',\n",
       " '98',\n",
       " '99',\n",
       " '100',\n",
       " '101',\n",
       " '102',\n",
       " '103',\n",
       " '104',\n",
       " '105',\n",
       " '106',\n",
       " '107',\n",
       " '108',\n",
       " '109',\n",
       " '110',\n",
       " '111',\n",
       " '112',\n",
       " '113',\n",
       " '114',\n",
       " '115',\n",
       " '116',\n",
       " '117',\n",
       " '118',\n",
       " '119',\n",
       " '120',\n",
       " '121',\n",
       " '122',\n",
       " '123',\n",
       " '124',\n",
       " '125',\n",
       " '126',\n",
       " '127',\n",
       " '128',\n",
       " '129',\n",
       " '130',\n",
       " '131',\n",
       " '132',\n",
       " '133',\n",
       " '134',\n",
       " '135',\n",
       " '136',\n",
       " '137',\n",
       " '138',\n",
       " '139',\n",
       " '140',\n",
       " '141',\n",
       " '142',\n",
       " '143',\n",
       " '144',\n",
       " '145',\n",
       " '146',\n",
       " '147',\n",
       " '148',\n",
       " '149',\n",
       " '150',\n",
       " '151',\n",
       " '152',\n",
       " '153',\n",
       " '154',\n",
       " '155',\n",
       " '156',\n",
       " '157',\n",
       " '158',\n",
       " '159',\n",
       " '160',\n",
       " '161',\n",
       " '162',\n",
       " '163',\n",
       " '164',\n",
       " '165',\n",
       " '166',\n",
       " '167',\n",
       " '168',\n",
       " '169',\n",
       " '170',\n",
       " '171',\n",
       " '172',\n",
       " '173',\n",
       " '174',\n",
       " '175',\n",
       " '176',\n",
       " '177',\n",
       " '178',\n",
       " '179',\n",
       " '180',\n",
       " '181',\n",
       " '182',\n",
       " '183',\n",
       " '184',\n",
       " '185',\n",
       " '186',\n",
       " '187',\n",
       " '188',\n",
       " '189',\n",
       " '190',\n",
       " '191',\n",
       " '192',\n",
       " '193',\n",
       " '194',\n",
       " '195',\n",
       " '196',\n",
       " '197',\n",
       " '198',\n",
       " '199',\n",
       " '200',\n",
       " '201',\n",
       " '202',\n",
       " '203',\n",
       " '204',\n",
       " '205',\n",
       " '206',\n",
       " '207',\n",
       " '208',\n",
       " '209',\n",
       " '210',\n",
       " '211',\n",
       " '212',\n",
       " '213',\n",
       " '214',\n",
       " '215',\n",
       " '216',\n",
       " '217',\n",
       " '218',\n",
       " '219',\n",
       " '220',\n",
       " '221',\n",
       " '222',\n",
       " '223',\n",
       " '224',\n",
       " '225',\n",
       " '226',\n",
       " '227',\n",
       " '228',\n",
       " '229',\n",
       " '230',\n",
       " '231',\n",
       " '232',\n",
       " '233',\n",
       " '234',\n",
       " '235',\n",
       " '236',\n",
       " '237',\n",
       " '238',\n",
       " '239',\n",
       " '240',\n",
       " '241',\n",
       " '242',\n",
       " '243',\n",
       " '244',\n",
       " '245']"
      ]
     },
     "execution_count": 30,
     "metadata": {},
     "output_type": "execute_result"
    }
   ],
   "source": [
    "rank"
   ]
  },
  {
   "cell_type": "code",
   "execution_count": 33,
   "id": "5045447b",
   "metadata": {},
   "outputs": [],
   "source": [
    "date = []\n",
    "for i in range(1,len(td_tags),8):\n",
    "    date.append(td_tags[i].text.strip())"
   ]
  },
  {
   "cell_type": "code",
   "execution_count": 34,
   "id": "74ff217c",
   "metadata": {},
   "outputs": [
    {
     "data": {
      "text/plain": [
       "245"
      ]
     },
     "execution_count": 34,
     "metadata": {},
     "output_type": "execute_result"
    }
   ],
   "source": [
    "len(date)"
   ]
  },
  {
   "cell_type": "code",
   "execution_count": 35,
   "id": "0ac1af74",
   "metadata": {},
   "outputs": [],
   "source": [
    "acquired= []\n",
    "for i in range(2,len(td_tags),8):\n",
    "    acquired.append(td_tags[i].text.strip())"
   ]
  },
  {
   "cell_type": "code",
   "execution_count": 36,
   "id": "3e738e33",
   "metadata": {},
   "outputs": [],
   "source": [
    "business= []\n",
    "for i in range(3,len(td_tags),8):\n",
    "    business.append(td_tags[i].text.strip())"
   ]
  },
  {
   "cell_type": "code",
   "execution_count": 37,
   "id": "fa7c15e4",
   "metadata": {},
   "outputs": [],
   "source": [
    "country= []\n",
    "for i in range(4,len(td_tags),8):\n",
    "    country.append(td_tags[i].text.strip())"
   ]
  },
  {
   "cell_type": "code",
   "execution_count": 38,
   "id": "4acf89fc",
   "metadata": {},
   "outputs": [],
   "source": [
    "price= []\n",
    "for i in range(5,len(td_tags),8):\n",
    "    price.append(td_tags[i].text.strip())"
   ]
  },
  {
   "cell_type": "code",
   "execution_count": 40,
   "id": "a1caab84",
   "metadata": {},
   "outputs": [],
   "source": [
    "acquiring= []\n",
    "for i in range(6,len(td_tags),8):\n",
    "    acquiring.append(td_tags[i].text.strip())"
   ]
  },
  {
   "cell_type": "code",
   "execution_count": 41,
   "id": "8672e0ab",
   "metadata": {},
   "outputs": [],
   "source": [
    "data = {\n",
    "    \"date\": date,\n",
    "    \"acquried_company\": acquired,\n",
    "    \"acquring_company\": acquiring,\n",
    "    \"business\": business,\n",
    "    \"country\": country,\n",
    "    \"price\": price\n",
    "}"
   ]
  },
  {
   "cell_type": "code",
   "execution_count": 42,
   "id": "154a98ab",
   "metadata": {},
   "outputs": [],
   "source": [
    "df = pd.DataFrame(data)"
   ]
  },
  {
   "cell_type": "code",
   "execution_count": 43,
   "id": "052733d8",
   "metadata": {},
   "outputs": [
    {
     "data": {
      "text/html": [
       "<div>\n",
       "<style scoped>\n",
       "    .dataframe tbody tr th:only-of-type {\n",
       "        vertical-align: middle;\n",
       "    }\n",
       "\n",
       "    .dataframe tbody tr th {\n",
       "        vertical-align: top;\n",
       "    }\n",
       "\n",
       "    .dataframe thead th {\n",
       "        text-align: right;\n",
       "    }\n",
       "</style>\n",
       "<table border=\"1\" class=\"dataframe\">\n",
       "  <thead>\n",
       "    <tr style=\"text-align: right;\">\n",
       "      <th></th>\n",
       "      <th>date</th>\n",
       "      <th>acquried_company</th>\n",
       "      <th>acquring_company</th>\n",
       "      <th>business</th>\n",
       "      <th>country</th>\n",
       "      <th>price</th>\n",
       "    </tr>\n",
       "  </thead>\n",
       "  <tbody>\n",
       "    <tr>\n",
       "      <th>0</th>\n",
       "      <td>February 12, 2001</td>\n",
       "      <td>Dejavue</td>\n",
       "      <td>Google Groups</td>\n",
       "      <td>Usenet</td>\n",
       "      <td>United States</td>\n",
       "      <td>—</td>\n",
       "    </tr>\n",
       "    <tr>\n",
       "      <th>1</th>\n",
       "      <td>September 20, 2001</td>\n",
       "      <td>Outride</td>\n",
       "      <td>Google Personalized Search</td>\n",
       "      <td>Web search engine</td>\n",
       "      <td>United States</td>\n",
       "      <td>—</td>\n",
       "    </tr>\n",
       "    <tr>\n",
       "      <th>2</th>\n",
       "      <td>February 2003</td>\n",
       "      <td>Pyra Labs</td>\n",
       "      <td>Blogger</td>\n",
       "      <td>Weblog software</td>\n",
       "      <td>United States</td>\n",
       "      <td>—</td>\n",
       "    </tr>\n",
       "    <tr>\n",
       "      <th>3</th>\n",
       "      <td>April 2003</td>\n",
       "      <td>Neotonic Software</td>\n",
       "      <td>Google Groups, Gmail</td>\n",
       "      <td>Customer relationship management</td>\n",
       "      <td>United States</td>\n",
       "      <td>—</td>\n",
       "    </tr>\n",
       "    <tr>\n",
       "      <th>4</th>\n",
       "      <td>April 2003</td>\n",
       "      <td>Applied Semantics</td>\n",
       "      <td>AdSense, AdWords</td>\n",
       "      <td>Online advertising</td>\n",
       "      <td>United States</td>\n",
       "      <td>$102,000,000</td>\n",
       "    </tr>\n",
       "  </tbody>\n",
       "</table>\n",
       "</div>"
      ],
      "text/plain": [
       "                 date   acquried_company            acquring_company  \\\n",
       "0   February 12, 2001            Dejavue               Google Groups   \n",
       "1  September 20, 2001            Outride  Google Personalized Search   \n",
       "2       February 2003          Pyra Labs                     Blogger   \n",
       "3          April 2003  Neotonic Software        Google Groups, Gmail   \n",
       "4          April 2003  Applied Semantics            AdSense, AdWords   \n",
       "\n",
       "                           business        country         price  \n",
       "0                            Usenet  United States             —  \n",
       "1                 Web search engine  United States             —  \n",
       "2                   Weblog software  United States             —  \n",
       "3  Customer relationship management  United States             —  \n",
       "4                Online advertising  United States  $102,000,000  "
      ]
     },
     "execution_count": 43,
     "metadata": {},
     "output_type": "execute_result"
    }
   ],
   "source": [
    "df.head()"
   ]
  },
  {
   "cell_type": "code",
   "execution_count": 45,
   "id": "a730a4dc",
   "metadata": {},
   "outputs": [],
   "source": [
    "df.to_csv(\"mergers and acquisitions.csv\", index=None)"
   ]
  },
  {
   "cell_type": "code",
   "execution_count": null,
   "id": "d545465f",
   "metadata": {},
   "outputs": [],
   "source": []
  }
 ],
 "metadata": {
  "kernelspec": {
   "display_name": "Python 3",
   "language": "python",
   "name": "python3"
  },
  "language_info": {
   "codemirror_mode": {
    "name": "ipython",
    "version": 3
   },
   "file_extension": ".py",
   "mimetype": "text/x-python",
   "name": "python",
   "nbconvert_exporter": "python",
   "pygments_lexer": "ipython3",
   "version": "3.9.5"
  }
 },
 "nbformat": 4,
 "nbformat_minor": 5
}
