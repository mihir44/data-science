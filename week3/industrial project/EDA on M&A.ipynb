{
 "cells": [
  {
   "cell_type": "markdown",
   "id": "401e4568",
   "metadata": {},
   "source": [
    "# Exploratory Data Analysis for Mergers and Acquisitions"
   ]
  },
  {
   "cell_type": "markdown",
   "id": "cef4fbd4",
   "metadata": {},
   "source": [
    "The following project focues on analysis of top M&A"
   ]
  },
  {
   "cell_type": "markdown",
   "id": "ee52bcda",
   "metadata": {},
   "source": [
    "Let's import the necessary for analysis!"
   ]
  },
  {
   "cell_type": "code",
   "execution_count": 1,
   "id": "54784fd0",
   "metadata": {},
   "outputs": [],
   "source": [
    "import pandas as pd\n",
    "import numpy as np\n",
    "import matplotlib.pyplot as plt\n",
    "%matplotlib inline\n",
    "import seaborn as sns"
   ]
  },
  {
   "cell_type": "markdown",
   "id": "0c425cf7",
   "metadata": {},
   "source": [
    "### Step 1: Read the csv data\n",
    "\n",
    "- Observer the number of columns\n",
    "- Look at the dtype of each row \n",
    "- Count the number of data\n",
    "- Check for the null values "
   ]
  },
  {
   "cell_type": "code",
   "execution_count": 2,
   "id": "1ebc21e4",
   "metadata": {},
   "outputs": [],
   "source": [
    "df = pd.read_csv(\"mergers and acquisitions.csv\")"
   ]
  },
  {
   "cell_type": "code",
   "execution_count": 3,
   "id": "039f966c",
   "metadata": {},
   "outputs": [
    {
     "data": {
      "text/html": [
       "<div>\n",
       "<style scoped>\n",
       "    .dataframe tbody tr th:only-of-type {\n",
       "        vertical-align: middle;\n",
       "    }\n",
       "\n",
       "    .dataframe tbody tr th {\n",
       "        vertical-align: top;\n",
       "    }\n",
       "\n",
       "    .dataframe thead th {\n",
       "        text-align: right;\n",
       "    }\n",
       "</style>\n",
       "<table border=\"1\" class=\"dataframe\">\n",
       "  <thead>\n",
       "    <tr style=\"text-align: right;\">\n",
       "      <th></th>\n",
       "      <th>date</th>\n",
       "      <th>acquried_company</th>\n",
       "      <th>acquring_company</th>\n",
       "      <th>business</th>\n",
       "      <th>country</th>\n",
       "      <th>price</th>\n",
       "    </tr>\n",
       "  </thead>\n",
       "  <tbody>\n",
       "    <tr>\n",
       "      <th>0</th>\n",
       "      <td>February 12, 2001</td>\n",
       "      <td>Dejavue</td>\n",
       "      <td>Google Groups</td>\n",
       "      <td>Usenet</td>\n",
       "      <td>United States</td>\n",
       "      <td>—</td>\n",
       "    </tr>\n",
       "    <tr>\n",
       "      <th>1</th>\n",
       "      <td>September 20, 2001</td>\n",
       "      <td>Outride</td>\n",
       "      <td>Google Personalized Search</td>\n",
       "      <td>Web search engine</td>\n",
       "      <td>United States</td>\n",
       "      <td>—</td>\n",
       "    </tr>\n",
       "    <tr>\n",
       "      <th>2</th>\n",
       "      <td>February 2003</td>\n",
       "      <td>Pyra Labs</td>\n",
       "      <td>Blogger</td>\n",
       "      <td>Weblog software</td>\n",
       "      <td>United States</td>\n",
       "      <td>—</td>\n",
       "    </tr>\n",
       "    <tr>\n",
       "      <th>3</th>\n",
       "      <td>April 2003</td>\n",
       "      <td>Neotonic Software</td>\n",
       "      <td>Google Groups, Gmail</td>\n",
       "      <td>Customer relationship management</td>\n",
       "      <td>United States</td>\n",
       "      <td>—</td>\n",
       "    </tr>\n",
       "    <tr>\n",
       "      <th>4</th>\n",
       "      <td>April 2003</td>\n",
       "      <td>Applied Semantics</td>\n",
       "      <td>AdSense, AdWords</td>\n",
       "      <td>Online advertising</td>\n",
       "      <td>United States</td>\n",
       "      <td>$102,000,000</td>\n",
       "    </tr>\n",
       "  </tbody>\n",
       "</table>\n",
       "</div>"
      ],
      "text/plain": [
       "                 date   acquried_company            acquring_company  \\\n",
       "0   February 12, 2001            Dejavue               Google Groups   \n",
       "1  September 20, 2001            Outride  Google Personalized Search   \n",
       "2       February 2003          Pyra Labs                     Blogger   \n",
       "3          April 2003  Neotonic Software        Google Groups, Gmail   \n",
       "4          April 2003  Applied Semantics            AdSense, AdWords   \n",
       "\n",
       "                           business        country         price  \n",
       "0                            Usenet  United States             —  \n",
       "1                 Web search engine  United States             —  \n",
       "2                   Weblog software  United States             —  \n",
       "3  Customer relationship management  United States             —  \n",
       "4                Online advertising  United States  $102,000,000  "
      ]
     },
     "execution_count": 3,
     "metadata": {},
     "output_type": "execute_result"
    }
   ],
   "source": [
    "df.head()"
   ]
  },
  {
   "cell_type": "code",
   "execution_count": 4,
   "id": "589460d7",
   "metadata": {},
   "outputs": [
    {
     "name": "stdout",
     "output_type": "stream",
     "text": [
      "<class 'pandas.core.frame.DataFrame'>\n",
      "RangeIndex: 245 entries, 0 to 244\n",
      "Data columns (total 6 columns):\n",
      " #   Column            Non-Null Count  Dtype \n",
      "---  ------            --------------  ----- \n",
      " 0   date              245 non-null    object\n",
      " 1   acquried_company  245 non-null    object\n",
      " 2   acquring_company  239 non-null    object\n",
      " 3   business          245 non-null    object\n",
      " 4   country           245 non-null    object\n",
      " 5   price             245 non-null    object\n",
      "dtypes: object(6)\n",
      "memory usage: 11.6+ KB\n"
     ]
    }
   ],
   "source": [
    "df.info()"
   ]
  },
  {
   "cell_type": "code",
   "execution_count": 5,
   "id": "55d0071a",
   "metadata": {},
   "outputs": [
    {
     "data": {
      "text/html": [
       "<div>\n",
       "<style scoped>\n",
       "    .dataframe tbody tr th:only-of-type {\n",
       "        vertical-align: middle;\n",
       "    }\n",
       "\n",
       "    .dataframe tbody tr th {\n",
       "        vertical-align: top;\n",
       "    }\n",
       "\n",
       "    .dataframe thead th {\n",
       "        text-align: right;\n",
       "    }\n",
       "</style>\n",
       "<table border=\"1\" class=\"dataframe\">\n",
       "  <thead>\n",
       "    <tr style=\"text-align: right;\">\n",
       "      <th></th>\n",
       "      <th>date</th>\n",
       "      <th>acquried_company</th>\n",
       "      <th>acquring_company</th>\n",
       "      <th>business</th>\n",
       "      <th>country</th>\n",
       "      <th>price</th>\n",
       "    </tr>\n",
       "  </thead>\n",
       "  <tbody>\n",
       "    <tr>\n",
       "      <th>count</th>\n",
       "      <td>245</td>\n",
       "      <td>245</td>\n",
       "      <td>239</td>\n",
       "      <td>245</td>\n",
       "      <td>245</td>\n",
       "      <td>245</td>\n",
       "    </tr>\n",
       "    <tr>\n",
       "      <th>unique</th>\n",
       "      <td>231</td>\n",
       "      <td>245</td>\n",
       "      <td>112</td>\n",
       "      <td>204</td>\n",
       "      <td>24</td>\n",
       "      <td>41</td>\n",
       "    </tr>\n",
       "    <tr>\n",
       "      <th>top</th>\n",
       "      <td>May 7, 2014</td>\n",
       "      <td>BlindType</td>\n",
       "      <td>Google Cloud Platform</td>\n",
       "      <td>Online advertising</td>\n",
       "      <td>United States</td>\n",
       "      <td>—</td>\n",
       "    </tr>\n",
       "    <tr>\n",
       "      <th>freq</th>\n",
       "      <td>3</td>\n",
       "      <td>1</td>\n",
       "      <td>22</td>\n",
       "      <td>6</td>\n",
       "      <td>179</td>\n",
       "      <td>189</td>\n",
       "    </tr>\n",
       "  </tbody>\n",
       "</table>\n",
       "</div>"
      ],
      "text/plain": [
       "               date acquried_company       acquring_company  \\\n",
       "count           245              245                    239   \n",
       "unique          231              245                    112   \n",
       "top     May 7, 2014        BlindType  Google Cloud Platform   \n",
       "freq              3                1                     22   \n",
       "\n",
       "                  business        country price  \n",
       "count                  245            245   245  \n",
       "unique                 204             24    41  \n",
       "top     Online advertising  United States     —  \n",
       "freq                     6            179   189  "
      ]
     },
     "execution_count": 5,
     "metadata": {},
     "output_type": "execute_result"
    }
   ],
   "source": [
    "df.describe()"
   ]
  },
  {
   "cell_type": "markdown",
   "id": "f770dd0c",
   "metadata": {},
   "source": [
    "#### Observation\n",
    "- There are total 245 rows in each columns\n",
    "- The number of rows is 6\n",
    "- Acquring_company has 6 null data\n",
    "- The dtypes of all the columns is object"
   ]
  },
  {
   "cell_type": "markdown",
   "id": "41caacd1",
   "metadata": {},
   "source": [
    "###  Step 2: Data Cleaning\n",
    "- We need to remove special characters from price column.\n",
    "- Convert date column to standard format\n",
    "- Remove the null value from acquring_company\n",
    "- Split day, month, and year column\n",
    "- Replace '-' with np.nan\n"
   ]
  },
  {
   "cell_type": "code",
   "execution_count": 6,
   "id": "9f0faac4",
   "metadata": {},
   "outputs": [],
   "source": [
    "df['price'] = df['price'].replace(\"—\", np.nan)"
   ]
  },
  {
   "cell_type": "code",
   "execution_count": 7,
   "id": "b0112297",
   "metadata": {},
   "outputs": [
    {
     "data": {
      "text/plain": [
       "189"
      ]
     },
     "execution_count": 7,
     "metadata": {},
     "output_type": "execute_result"
    }
   ],
   "source": [
    "df.price.isna().sum()"
   ]
  },
  {
   "cell_type": "markdown",
   "id": "c8a7efbb",
   "metadata": {},
   "source": [
    "helping function to remove special characters from price column"
   ]
  },
  {
   "cell_type": "code",
   "execution_count": 8,
   "id": "b7b2e122",
   "metadata": {},
   "outputs": [],
   "source": [
    "def remove_sign(x):\n",
    "    if x is not np.nan:\n",
    "        x = x.split(\"$\")[1]\n",
    "    return x\n",
    "def remove_comma(x):\n",
    "    if x is not np.nan:\n",
    "        x = str(x).replace(\",\",\"\")\n",
    "    return x\n",
    "\n",
    "def to_integer(x):\n",
    "    if x is not np.nan:\n",
    "        x = int(x)\n",
    "    return x "
   ]
  },
  {
   "cell_type": "code",
   "execution_count": 9,
   "id": "1b715031",
   "metadata": {},
   "outputs": [],
   "source": [
    "df.price = df.price.apply(lambda x: to_integer(remove_comma(remove_sign(x))))"
   ]
  },
  {
   "cell_type": "markdown",
   "id": "d3ba553d",
   "metadata": {},
   "source": [
    "Converting date in standard format"
   ]
  },
  {
   "cell_type": "code",
   "execution_count": 10,
   "id": "ad3d84b0",
   "metadata": {},
   "outputs": [],
   "source": [
    "df['date'] = pd.to_datetime(df.date)"
   ]
  },
  {
   "cell_type": "markdown",
   "id": "1a87770f",
   "metadata": {},
   "source": [
    "Splitting the day, month and year columns"
   ]
  },
  {
   "cell_type": "code",
   "execution_count": 11,
   "id": "96e8fdb4",
   "metadata": {},
   "outputs": [],
   "source": [
    "df['day'] = df.date.apply(lambda x: str(x).split('-')[-1])\n",
    "df['month'] = df.date.apply(lambda x: int(str(x).split('-')[1]))\n",
    "df['year'] = df.date.apply(lambda x: int(str(x).split('-')[0]))"
   ]
  },
  {
   "cell_type": "code",
   "execution_count": 12,
   "id": "eca84e88",
   "metadata": {},
   "outputs": [],
   "source": [
    "df['day'] = df.day.apply(lambda x: int(x.split(\" \")[0]))"
   ]
  },
  {
   "cell_type": "markdown",
   "id": "3caaeb18",
   "metadata": {},
   "source": [
    "Look at the final data for visualization"
   ]
  },
  {
   "cell_type": "code",
   "execution_count": 13,
   "id": "7307960f",
   "metadata": {},
   "outputs": [
    {
     "data": {
      "text/html": [
       "<div>\n",
       "<style scoped>\n",
       "    .dataframe tbody tr th:only-of-type {\n",
       "        vertical-align: middle;\n",
       "    }\n",
       "\n",
       "    .dataframe tbody tr th {\n",
       "        vertical-align: top;\n",
       "    }\n",
       "\n",
       "    .dataframe thead th {\n",
       "        text-align: right;\n",
       "    }\n",
       "</style>\n",
       "<table border=\"1\" class=\"dataframe\">\n",
       "  <thead>\n",
       "    <tr style=\"text-align: right;\">\n",
       "      <th></th>\n",
       "      <th>date</th>\n",
       "      <th>acquried_company</th>\n",
       "      <th>acquring_company</th>\n",
       "      <th>business</th>\n",
       "      <th>country</th>\n",
       "      <th>price</th>\n",
       "      <th>day</th>\n",
       "      <th>month</th>\n",
       "      <th>year</th>\n",
       "    </tr>\n",
       "  </thead>\n",
       "  <tbody>\n",
       "    <tr>\n",
       "      <th>0</th>\n",
       "      <td>2001-02-12</td>\n",
       "      <td>Dejavue</td>\n",
       "      <td>Google Groups</td>\n",
       "      <td>Usenet</td>\n",
       "      <td>United States</td>\n",
       "      <td>NaN</td>\n",
       "      <td>12</td>\n",
       "      <td>2</td>\n",
       "      <td>2001</td>\n",
       "    </tr>\n",
       "    <tr>\n",
       "      <th>1</th>\n",
       "      <td>2001-09-20</td>\n",
       "      <td>Outride</td>\n",
       "      <td>Google Personalized Search</td>\n",
       "      <td>Web search engine</td>\n",
       "      <td>United States</td>\n",
       "      <td>NaN</td>\n",
       "      <td>20</td>\n",
       "      <td>9</td>\n",
       "      <td>2001</td>\n",
       "    </tr>\n",
       "    <tr>\n",
       "      <th>2</th>\n",
       "      <td>2003-02-01</td>\n",
       "      <td>Pyra Labs</td>\n",
       "      <td>Blogger</td>\n",
       "      <td>Weblog software</td>\n",
       "      <td>United States</td>\n",
       "      <td>NaN</td>\n",
       "      <td>1</td>\n",
       "      <td>2</td>\n",
       "      <td>2003</td>\n",
       "    </tr>\n",
       "    <tr>\n",
       "      <th>3</th>\n",
       "      <td>2003-04-01</td>\n",
       "      <td>Neotonic Software</td>\n",
       "      <td>Google Groups, Gmail</td>\n",
       "      <td>Customer relationship management</td>\n",
       "      <td>United States</td>\n",
       "      <td>NaN</td>\n",
       "      <td>1</td>\n",
       "      <td>4</td>\n",
       "      <td>2003</td>\n",
       "    </tr>\n",
       "    <tr>\n",
       "      <th>4</th>\n",
       "      <td>2003-04-01</td>\n",
       "      <td>Applied Semantics</td>\n",
       "      <td>AdSense, AdWords</td>\n",
       "      <td>Online advertising</td>\n",
       "      <td>United States</td>\n",
       "      <td>102000000.0</td>\n",
       "      <td>1</td>\n",
       "      <td>4</td>\n",
       "      <td>2003</td>\n",
       "    </tr>\n",
       "  </tbody>\n",
       "</table>\n",
       "</div>"
      ],
      "text/plain": [
       "        date   acquried_company            acquring_company  \\\n",
       "0 2001-02-12            Dejavue               Google Groups   \n",
       "1 2001-09-20            Outride  Google Personalized Search   \n",
       "2 2003-02-01          Pyra Labs                     Blogger   \n",
       "3 2003-04-01  Neotonic Software        Google Groups, Gmail   \n",
       "4 2003-04-01  Applied Semantics            AdSense, AdWords   \n",
       "\n",
       "                           business        country        price  day  month  \\\n",
       "0                            Usenet  United States          NaN   12      2   \n",
       "1                 Web search engine  United States          NaN   20      9   \n",
       "2                   Weblog software  United States          NaN    1      2   \n",
       "3  Customer relationship management  United States          NaN    1      4   \n",
       "4                Online advertising  United States  102000000.0    1      4   \n",
       "\n",
       "   year  \n",
       "0  2001  \n",
       "1  2001  \n",
       "2  2003  \n",
       "3  2003  \n",
       "4  2003  "
      ]
     },
     "execution_count": 13,
     "metadata": {},
     "output_type": "execute_result"
    }
   ],
   "source": [
    "df.head()"
   ]
  },
  {
   "cell_type": "markdown",
   "id": "177b2e32",
   "metadata": {},
   "source": [
    "### Step 3: Data Visualization"
   ]
  },
  {
   "cell_type": "code",
   "execution_count": 14,
   "id": "c487dbc6",
   "metadata": {},
   "outputs": [],
   "source": [
    "import matplotlib\n",
    "sns.set_style('darkgrid')\n",
    "matplotlib.rcParams['font.size'] = 14\n",
    "matplotlib.rcParams['figure.figsize'] = (12,6)"
   ]
  },
  {
   "cell_type": "code",
   "execution_count": 16,
   "id": "fac38f03",
   "metadata": {},
   "outputs": [
    {
     "data": {
      "image/png": "[encoded data removed]",
      "text/plain": [
       "<Figure size 864x432 with 1 Axes>"
      ]
     },
     "metadata": {},
     "output_type": "display_data"
    }
   ],
   "source": [
    "sns.countplot(x=\"country\",data=df);\n",
    "plt.xticks(rotation=45);"
   ]
  },
  {
   "cell_type": "code",
   "execution_count": 19,
   "id": "df7afb84",
   "metadata": {},
   "outputs": [
    {
     "data": {
      "text/plain": [
       "<AxesSubplot:>"
      ]
     },
     "execution_count": 19,
     "metadata": {},
     "output_type": "execute_result"
    },
    {
     "data": {
      "image/png": "[encoded data removed]",
      "text/plain": [
       "<Figure size 432x288 with 1 Axes>"
      ]
     },
     "metadata": {
      "needs_background": "light"
     },
     "output_type": "display_data"
    }
   ],
   "source": [
    "sns.lineplot(data=df)"
   ]
  },
  {
   "cell_type": "code",
   "execution_count": 21,
   "id": "e5b6a685",
   "metadata": {},
   "outputs": [
    {
     "name": "stderr",
     "output_type": "stream",
     "text": [
      "c:\\users\\mihir\\appdata\\local\\programs\\python\\python39\\lib\\site-packages\\seaborn\\distributions.py:2557: FutureWarning: `distplot` is a deprecated function and will be removed in a future version. Please adapt your code to use either `displot` (a figure-level function with similar flexibility) or `histplot` (an axes-level function for histograms).\n",
      "  warnings.warn(msg, FutureWarning)\n"
     ]
    },
    {
     "data": {
      "image/png": "[encoded data removed]",
      "text/plain": [
       "<Figure size 432x288 with 1 Axes>"
      ]
     },
     "metadata": {
      "needs_background": "light"
     },
     "output_type": "display_data"
    }
   ],
   "source": [
    "sns.distplot(df.month);"
   ]
  },
  {
   "cell_type": "code",
   "execution_count": 20,
   "id": "98925880",
   "metadata": {},
   "outputs": [],
   "source": [
    "def merge_google_company(x):\n",
    "    if \"Google\" in str(x):\n",
    "        x = \"Google\"\n",
    "    return x"
   ]
  },
  {
   "cell_type": "code",
   "execution_count": 22,
   "id": "fe497afa",
   "metadata": {},
   "outputs": [],
   "source": [
    "df.acquring_company = df.acquring_company.apply(lambda x: merge_google_company(x))"
   ]
  },
  {
   "cell_type": "code",
   "execution_count": 23,
   "id": "c16ed988",
   "metadata": {},
   "outputs": [
    {
     "data": {
      "text/html": [
       "<div>\n",
       "<style scoped>\n",
       "    .dataframe tbody tr th:only-of-type {\n",
       "        vertical-align: middle;\n",
       "    }\n",
       "\n",
       "    .dataframe tbody tr th {\n",
       "        vertical-align: top;\n",
       "    }\n",
       "\n",
       "    .dataframe thead th {\n",
       "        text-align: right;\n",
       "    }\n",
       "</style>\n",
       "<table border=\"1\" class=\"dataframe\">\n",
       "  <thead>\n",
       "    <tr style=\"text-align: right;\">\n",
       "      <th></th>\n",
       "      <th>date</th>\n",
       "      <th>acquried_company</th>\n",
       "      <th>acquring_company</th>\n",
       "      <th>business</th>\n",
       "      <th>country</th>\n",
       "      <th>price</th>\n",
       "      <th>day</th>\n",
       "      <th>month</th>\n",
       "      <th>year</th>\n",
       "    </tr>\n",
       "  </thead>\n",
       "  <tbody>\n",
       "    <tr>\n",
       "      <th>0</th>\n",
       "      <td>2001-02-12</td>\n",
       "      <td>Dejavue</td>\n",
       "      <td>Google</td>\n",
       "      <td>Usenet</td>\n",
       "      <td>United States</td>\n",
       "      <td>NaN</td>\n",
       "      <td>12</td>\n",
       "      <td>2</td>\n",
       "      <td>2001</td>\n",
       "    </tr>\n",
       "    <tr>\n",
       "      <th>1</th>\n",
       "      <td>2001-09-20</td>\n",
       "      <td>Outride</td>\n",
       "      <td>Google</td>\n",
       "      <td>Web search engine</td>\n",
       "      <td>United States</td>\n",
       "      <td>NaN</td>\n",
       "      <td>20</td>\n",
       "      <td>9</td>\n",
       "      <td>2001</td>\n",
       "    </tr>\n",
       "    <tr>\n",
       "      <th>2</th>\n",
       "      <td>2003-02-01</td>\n",
       "      <td>Pyra Labs</td>\n",
       "      <td>Blogger</td>\n",
       "      <td>Weblog software</td>\n",
       "      <td>United States</td>\n",
       "      <td>NaN</td>\n",
       "      <td>1</td>\n",
       "      <td>2</td>\n",
       "      <td>2003</td>\n",
       "    </tr>\n",
       "    <tr>\n",
       "      <th>3</th>\n",
       "      <td>2003-04-01</td>\n",
       "      <td>Neotonic Software</td>\n",
       "      <td>Google</td>\n",
       "      <td>Customer relationship management</td>\n",
       "      <td>United States</td>\n",
       "      <td>NaN</td>\n",
       "      <td>1</td>\n",
       "      <td>4</td>\n",
       "      <td>2003</td>\n",
       "    </tr>\n",
       "    <tr>\n",
       "      <th>4</th>\n",
       "      <td>2003-04-01</td>\n",
       "      <td>Applied Semantics</td>\n",
       "      <td>AdSense, AdWords</td>\n",
       "      <td>Online advertising</td>\n",
       "      <td>United States</td>\n",
       "      <td>102000000.0</td>\n",
       "      <td>1</td>\n",
       "      <td>4</td>\n",
       "      <td>2003</td>\n",
       "    </tr>\n",
       "  </tbody>\n",
       "</table>\n",
       "</div>"
      ],
      "text/plain": [
       "        date   acquried_company  acquring_company  \\\n",
       "0 2001-02-12            Dejavue            Google   \n",
       "1 2001-09-20            Outride            Google   \n",
       "2 2003-02-01          Pyra Labs           Blogger   \n",
       "3 2003-04-01  Neotonic Software            Google   \n",
       "4 2003-04-01  Applied Semantics  AdSense, AdWords   \n",
       "\n",
       "                           business        country        price  day  month  \\\n",
       "0                            Usenet  United States          NaN   12      2   \n",
       "1                 Web search engine  United States          NaN   20      9   \n",
       "2                   Weblog software  United States          NaN    1      2   \n",
       "3  Customer relationship management  United States          NaN    1      4   \n",
       "4                Online advertising  United States  102000000.0    1      4   \n",
       "\n",
       "   year  \n",
       "0  2001  \n",
       "1  2001  \n",
       "2  2003  \n",
       "3  2003  \n",
       "4  2003  "
      ]
     },
     "execution_count": 23,
     "metadata": {},
     "output_type": "execute_result"
    }
   ],
   "source": [
    "df.head()"
   ]
  },
  {
   "cell_type": "code",
   "execution_count": 24,
   "id": "210691c5",
   "metadata": {},
   "outputs": [
    {
     "data": {
      "text/plain": [
       "array(['Google', 'Blogger', 'AdSense, AdWords', 'Picasa, Blogger',\n",
       "       'Internet backbone', 'Android', 'Skia', 'AdSense', 'YouTube',\n",
       "       'Panoramio', 'FeedBurner', 'Gmail', 'WebM, YouTube',\n",
       "       'DoubleClick, Invite Media', 'Aardvark', 'Picasa', 'WebRTC',\n",
       "       'DoubleClick', 'Project Zero', 'Android Wear', 'Chronicle', 'X',\n",
       "       'Nest Labs', 'DoubleClick, AdSense', 'Project Loon',\n",
       "       'Android for Work', 'YouTube, Android', 'Verily',\n",
       "       'YouTube for Kids', 'Android Pay', 'Tilt Brush', 'Messages',\n",
       "       'Street View', 'Spaces', 'Firebase', nan,\n",
       "       'Accelerated Mobile Pages', 'Stadia', 'Chrome OS', 'Wear OS',\n",
       "       'Tensor processing unit', 'Pixel Buds'], dtype=object)"
      ]
     },
     "execution_count": 24,
     "metadata": {},
     "output_type": "execute_result"
    }
   ],
   "source": [
    "df.acquring_company.unique()"
   ]
  },
  {
   "cell_type": "code",
   "execution_count": 25,
   "id": "32bf4a0f",
   "metadata": {},
   "outputs": [],
   "source": [
    "%matplotlib inline"
   ]
  },
  {
   "cell_type": "code",
   "execution_count": 34,
   "id": "b342edd8",
   "metadata": {},
   "outputs": [
    {
     "data": {
      "image/png": "[encoded data removed]",
      "text/plain": [
       "<Figure size 1440x720 with 1 Axes>"
      ]
     },
     "metadata": {
      "needs_background": "light"
     },
     "output_type": "display_data"
    }
   ],
   "source": [
    "plt.figure(figsize=(20,10))\n",
    "sns.countplot(x=\"year\",hue=\"month\",data=df);\n",
    "plt.xticks(rotation=45);"
   ]
  },
  {
   "cell_type": "code",
   "execution_count": 35,
   "id": "97f31582",
   "metadata": {},
   "outputs": [
    {
     "data": {
      "image/png": "[encoded data removed]",
      "text/plain": [
       "<Figure size 432x288 with 1 Axes>"
      ]
     },
     "metadata": {
      "needs_background": "light"
     },
     "output_type": "display_data"
    }
   ],
   "source": [
    "sns.countplot(x=\"year\",data=df)\n",
    "plt.xticks(rotation=45);"
   ]
  },
  {
   "cell_type": "code",
   "execution_count": 37,
   "id": "28095228",
   "metadata": {},
   "outputs": [
    {
     "ename": "TypeError",
     "evalue": "bar() missing 1 required positional argument: 'height'",
     "output_type": "error",
     "traceback": [
      "\u001b[1;31m---------------------------------------------------------------------------\u001b[0m",
      "\u001b[1;31mTypeError\u001b[0m                                 Traceback (most recent call last)",
      "\u001b[1;32m<ipython-input-37-53c1b3820f1e>\u001b[0m in \u001b[0;36m<module>\u001b[1;34m\u001b[0m\n\u001b[1;32m----> 1\u001b[1;33m \u001b[0mplt\u001b[0m\u001b[1;33m.\u001b[0m\u001b[0mbar\u001b[0m\u001b[1;33m(\u001b[0m\u001b[0mx\u001b[0m\u001b[1;33m=\u001b[0m\u001b[0mdf\u001b[0m\u001b[1;33m.\u001b[0m\u001b[0myear\u001b[0m\u001b[1;33m,\u001b[0m\u001b[0my\u001b[0m\u001b[1;33m=\u001b[0m\u001b[0mdf\u001b[0m\u001b[1;33m.\u001b[0m\u001b[0mprice\u001b[0m\u001b[1;33m)\u001b[0m\u001b[1;33m\u001b[0m\u001b[1;33m\u001b[0m\u001b[0m\n\u001b[0m\u001b[0;32m      2\u001b[0m \u001b[0mplt\u001b[0m\u001b[1;33m.\u001b[0m\u001b[0mshow\u001b[0m\u001b[1;33m(\u001b[0m\u001b[1;33m)\u001b[0m\u001b[1;33m\u001b[0m\u001b[1;33m\u001b[0m\u001b[0m\n",
      "\u001b[1;31mTypeError\u001b[0m: bar() missing 1 required positional argument: 'height'"
     ]
    }
   ],
   "source": [
    "plt.bar(x=df.year,y=df.price)\n",
    "plt.show() "
   ]
  },
  {
   "cell_type": "code",
   "execution_count": null,
   "id": "324995e7",
   "metadata": {},
   "outputs": [],
   "source": []
  }
 ],
 "metadata": {
  "kernelspec": {
   "display_name": "Python 3",
   "language": "python",
   "name": "python3"
  },
  "language_info": {
   "codemirror_mode": {
    "name": "ipython",
    "version": 3
   },
   "file_extension": ".py",
   "mimetype": "text/x-python",
   "name": "python",
   "nbconvert_exporter": "python",
   "pygments_lexer": "ipython3",
   "version": "3.9.5"
  }
 },
 "nbformat": 4,
 "nbformat_minor": 5
}
